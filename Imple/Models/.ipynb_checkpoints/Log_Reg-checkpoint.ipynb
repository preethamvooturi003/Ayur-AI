{
 "cells": [
  {
   "cell_type": "code",
   "execution_count": 1,
   "id": "c7531673",
   "metadata": {},
   "outputs": [],
   "source": [
    "import numpy as np\n",
    "import pandas as pd"
   ]
  },
  {
   "cell_type": "code",
   "execution_count": 2,
   "id": "64c511e8",
   "metadata": {},
   "outputs": [],
   "source": [
    "df=pd.read_csv(\"E:\\VIT\\Win Sem 23-24\\Web_mining\\EPJ\\Models\\prediab.csv\")"
   ]
  },
  {
   "cell_type": "code",
   "execution_count": 3,
   "id": "b8a48f52",
   "metadata": {},
   "outputs": [
    {
     "data": {
      "text/plain": [
       "Index(['Prediabetes Status', 'Age', 'Gender', 'BMI',\n",
       "       'Waist Circumference (cm)', 'Physical Activity Level',\n",
       "       'Frequent Urination', 'Increased Thirst', 'Increased Hunger',\n",
       "       'Excessive Weight Loss (Past 6 Months)', 'Blurred Vision (Recent)',\n",
       "       'Fatigue', 'Slow Healing Wounds (Past 3 Months)', 'Dry Mouth',\n",
       "       'Tingling/Numbness in Hands/Feet',\n",
       "       'Frequent Skin Infections (Past Year)',\n",
       "       'Darkening Skin Folds (In Armpits/Neck)', 'Difficulty Concentrating',\n",
       "       'Irritability',\n",
       "       'Erectile Dysfunction (Male) / Irregular Periods (Female)',\n",
       "       'Delayed Wound Healing (After Minor Injury)', 'Poor Night Sleep',\n",
       "       'Increased Belly Fat'],\n",
       "      dtype='object')"
      ]
     },
     "execution_count": 3,
     "metadata": {},
     "output_type": "execute_result"
    }
   ],
   "source": [
    "df.columns"
   ]
  },
  {
   "cell_type": "code",
   "execution_count": 4,
   "id": "b048701c",
   "metadata": {},
   "outputs": [
    {
     "data": {
      "text/plain": [
       "23"
      ]
     },
     "execution_count": 4,
     "metadata": {},
     "output_type": "execute_result"
    }
   ],
   "source": [
    "len(df.columns)"
   ]
  },
  {
   "cell_type": "code",
   "execution_count": 5,
   "id": "1c71972d",
   "metadata": {},
   "outputs": [],
   "source": [
    "df.dropna(inplace=True)"
   ]
  },
  {
   "cell_type": "code",
   "execution_count": 6,
   "id": "3014a0f2",
   "metadata": {},
   "outputs": [
    {
     "data": {
      "text/html": [
       "<div>\n",
       "<style scoped>\n",
       "    .dataframe tbody tr th:only-of-type {\n",
       "        vertical-align: middle;\n",
       "    }\n",
       "\n",
       "    .dataframe tbody tr th {\n",
       "        vertical-align: top;\n",
       "    }\n",
       "\n",
       "    .dataframe thead th {\n",
       "        text-align: right;\n",
       "    }\n",
       "</style>\n",
       "<table border=\"1\" class=\"dataframe\">\n",
       "  <thead>\n",
       "    <tr style=\"text-align: right;\">\n",
       "      <th></th>\n",
       "      <th>Prediabetes Status</th>\n",
       "      <th>Age</th>\n",
       "      <th>Gender</th>\n",
       "      <th>BMI</th>\n",
       "      <th>Waist Circumference (cm)</th>\n",
       "      <th>Physical Activity Level</th>\n",
       "      <th>Frequent Urination</th>\n",
       "      <th>Increased Thirst</th>\n",
       "      <th>Increased Hunger</th>\n",
       "      <th>Excessive Weight Loss (Past 6 Months)</th>\n",
       "      <th>...</th>\n",
       "      <th>Dry Mouth</th>\n",
       "      <th>Tingling/Numbness in Hands/Feet</th>\n",
       "      <th>Frequent Skin Infections (Past Year)</th>\n",
       "      <th>Darkening Skin Folds (In Armpits/Neck)</th>\n",
       "      <th>Difficulty Concentrating</th>\n",
       "      <th>Irritability</th>\n",
       "      <th>Erectile Dysfunction (Male) / Irregular Periods (Female)</th>\n",
       "      <th>Delayed Wound Healing (After Minor Injury)</th>\n",
       "      <th>Poor Night Sleep</th>\n",
       "      <th>Increased Belly Fat</th>\n",
       "    </tr>\n",
       "  </thead>\n",
       "  <tbody>\n",
       "    <tr>\n",
       "      <th>0</th>\n",
       "      <td>0</td>\n",
       "      <td>48</td>\n",
       "      <td>Female</td>\n",
       "      <td>24.5</td>\n",
       "      <td>88</td>\n",
       "      <td>Moderate</td>\n",
       "      <td>No</td>\n",
       "      <td>No</td>\n",
       "      <td>No</td>\n",
       "      <td>No</td>\n",
       "      <td>...</td>\n",
       "      <td>No</td>\n",
       "      <td>No</td>\n",
       "      <td>No</td>\n",
       "      <td>No</td>\n",
       "      <td>No</td>\n",
       "      <td>No</td>\n",
       "      <td>No</td>\n",
       "      <td>No</td>\n",
       "      <td>No</td>\n",
       "      <td>Yes</td>\n",
       "    </tr>\n",
       "    <tr>\n",
       "      <th>1</th>\n",
       "      <td>1</td>\n",
       "      <td>51</td>\n",
       "      <td>Male</td>\n",
       "      <td>30.2</td>\n",
       "      <td>102</td>\n",
       "      <td>Sedentary</td>\n",
       "      <td>Yes</td>\n",
       "      <td>Yes</td>\n",
       "      <td>Yes</td>\n",
       "      <td>No</td>\n",
       "      <td>...</td>\n",
       "      <td>Yes</td>\n",
       "      <td>No</td>\n",
       "      <td>No</td>\n",
       "      <td>No</td>\n",
       "      <td>Yes</td>\n",
       "      <td>Yes</td>\n",
       "      <td>Yes</td>\n",
       "      <td>Yes</td>\n",
       "      <td>Yes</td>\n",
       "      <td>Yes</td>\n",
       "    </tr>\n",
       "    <tr>\n",
       "      <th>2</th>\n",
       "      <td>0</td>\n",
       "      <td>39</td>\n",
       "      <td>Female</td>\n",
       "      <td>22.1</td>\n",
       "      <td>82</td>\n",
       "      <td>Active</td>\n",
       "      <td>No</td>\n",
       "      <td>No</td>\n",
       "      <td>No</td>\n",
       "      <td>No</td>\n",
       "      <td>...</td>\n",
       "      <td>No</td>\n",
       "      <td>No</td>\n",
       "      <td>No</td>\n",
       "      <td>No</td>\n",
       "      <td>No</td>\n",
       "      <td>Yes</td>\n",
       "      <td>No</td>\n",
       "      <td>No</td>\n",
       "      <td>No</td>\n",
       "      <td>Yes</td>\n",
       "    </tr>\n",
       "    <tr>\n",
       "      <th>4</th>\n",
       "      <td>0</td>\n",
       "      <td>42</td>\n",
       "      <td>Female</td>\n",
       "      <td>25.4</td>\n",
       "      <td>87</td>\n",
       "      <td>Moderate</td>\n",
       "      <td>No</td>\n",
       "      <td>No</td>\n",
       "      <td>Occasionally</td>\n",
       "      <td>No</td>\n",
       "      <td>...</td>\n",
       "      <td>No</td>\n",
       "      <td>No</td>\n",
       "      <td>No</td>\n",
       "      <td>No</td>\n",
       "      <td>No</td>\n",
       "      <td>No</td>\n",
       "      <td>No</td>\n",
       "      <td>No</td>\n",
       "      <td>No</td>\n",
       "      <td>Yes</td>\n",
       "    </tr>\n",
       "    <tr>\n",
       "      <th>6</th>\n",
       "      <td>0</td>\n",
       "      <td>35</td>\n",
       "      <td>Female</td>\n",
       "      <td>21.8</td>\n",
       "      <td>78</td>\n",
       "      <td>Active</td>\n",
       "      <td>No</td>\n",
       "      <td>No</td>\n",
       "      <td>No</td>\n",
       "      <td>No</td>\n",
       "      <td>...</td>\n",
       "      <td>No</td>\n",
       "      <td>No</td>\n",
       "      <td>No</td>\n",
       "      <td>No</td>\n",
       "      <td>No</td>\n",
       "      <td>No</td>\n",
       "      <td>No</td>\n",
       "      <td>No</td>\n",
       "      <td>No</td>\n",
       "      <td>Yes</td>\n",
       "    </tr>\n",
       "  </tbody>\n",
       "</table>\n",
       "<p>5 rows × 23 columns</p>\n",
       "</div>"
      ],
      "text/plain": [
       "   Prediabetes Status  Age  Gender   BMI  Waist Circumference (cm)  \\\n",
       "0                   0   48  Female  24.5                        88   \n",
       "1                   1   51    Male  30.2                       102   \n",
       "2                   0   39  Female  22.1                        82   \n",
       "4                   0   42  Female  25.4                        87   \n",
       "6                   0   35  Female  21.8                        78   \n",
       "\n",
       "  Physical Activity Level Frequent Urination Increased Thirst  \\\n",
       "0                Moderate                 No               No   \n",
       "1               Sedentary                Yes              Yes   \n",
       "2                  Active                 No               No   \n",
       "4                Moderate                 No               No   \n",
       "6                  Active                 No               No   \n",
       "\n",
       "  Increased Hunger Excessive Weight Loss (Past 6 Months)  ... Dry Mouth  \\\n",
       "0               No                                    No  ...        No   \n",
       "1              Yes                                    No  ...       Yes   \n",
       "2               No                                    No  ...        No   \n",
       "4     Occasionally                                    No  ...        No   \n",
       "6               No                                    No  ...        No   \n",
       "\n",
       "  Tingling/Numbness in Hands/Feet Frequent Skin Infections (Past Year)  \\\n",
       "0                              No                                   No   \n",
       "1                              No                                   No   \n",
       "2                              No                                   No   \n",
       "4                              No                                   No   \n",
       "6                              No                                   No   \n",
       "\n",
       "  Darkening Skin Folds (In Armpits/Neck) Difficulty Concentrating  \\\n",
       "0                                     No                       No   \n",
       "1                                     No                      Yes   \n",
       "2                                     No                       No   \n",
       "4                                     No                       No   \n",
       "6                                     No                       No   \n",
       "\n",
       "  Irritability Erectile Dysfunction (Male) / Irregular Periods (Female)  \\\n",
       "0           No                                                 No         \n",
       "1          Yes                                                Yes         \n",
       "2          Yes                                                 No         \n",
       "4           No                                                 No         \n",
       "6           No                                                 No         \n",
       "\n",
       "  Delayed Wound Healing (After Minor Injury) Poor Night Sleep  \\\n",
       "0                                         No               No   \n",
       "1                                        Yes              Yes   \n",
       "2                                         No               No   \n",
       "4                                         No               No   \n",
       "6                                         No               No   \n",
       "\n",
       "  Increased Belly Fat  \n",
       "0                 Yes  \n",
       "1                 Yes  \n",
       "2                 Yes  \n",
       "4                 Yes  \n",
       "6                 Yes  \n",
       "\n",
       "[5 rows x 23 columns]"
      ]
     },
     "execution_count": 6,
     "metadata": {},
     "output_type": "execute_result"
    }
   ],
   "source": [
    "df.head()"
   ]
  },
  {
   "cell_type": "code",
   "execution_count": 7,
   "id": "b2e6054d",
   "metadata": {},
   "outputs": [
    {
     "name": "stdout",
     "output_type": "stream",
     "text": [
      "Gender ['Female' 'Male']\n",
      "Physical Activity Level ['Moderate' 'Sedentary' 'Active' 'Light Activity' 'Inactive' 'Very Active']\n",
      "Frequent Urination ['No' 'Yes' 'Occasionally']\n",
      "Increased Thirst ['No' 'Yes']\n",
      "Increased Hunger ['No' 'Yes' 'Occasionally']\n",
      "Excessive Weight Loss (Past 6 Months) ['No' 'Yes']\n",
      "Blurred Vision (Recent) ['No' 'Yes']\n",
      "Fatigue ['Occasionally' 'Yes' 'No']\n",
      "Slow Healing Wounds (Past 3 Months) ['No' 'Yes' 'Occasionally']\n",
      "Dry Mouth ['No' 'Yes' 'Sometimes']\n",
      "Tingling/Numbness in Hands/Feet ['No' 'Yes']\n",
      "Frequent Skin Infections (Past Year) ['No' 'Yes']\n",
      "Darkening Skin Folds (In Armpits/Neck) ['No' 'Yes']\n",
      "Difficulty Concentrating ['No' 'Yes']\n",
      "Irritability ['No' 'Yes' 'Occasionally']\n",
      "Erectile Dysfunction (Male) / Irregular Periods (Female) ['No' 'Yes']\n",
      "Delayed Wound Healing (After Minor Injury) ['No' 'Yes']\n",
      "Poor Night Sleep ['No' 'Yes' 'Occasionally']\n",
      "Increased Belly Fat ['Yes' 'No']\n"
     ]
    }
   ],
   "source": [
    "ls=['Gender','Physical Activity Level','Frequent Urination', 'Increased Thirst', 'Increased Hunger',\n",
    "       'Excessive Weight Loss (Past 6 Months)', 'Blurred Vision (Recent)',\n",
    "       'Fatigue', 'Slow Healing Wounds (Past 3 Months)', 'Dry Mouth',\n",
    "       'Tingling/Numbness in Hands/Feet',\n",
    "       'Frequent Skin Infections (Past Year)',\n",
    "       'Darkening Skin Folds (In Armpits/Neck)', 'Difficulty Concentrating',\n",
    "       'Irritability',\n",
    "       'Erectile Dysfunction (Male) / Irregular Periods (Female)',\n",
    "       'Delayed Wound Healing (After Minor Injury)', 'Poor Night Sleep',\n",
    "       'Increased Belly Fat']\n",
    "for i in ls:\n",
    "    print(i,df[i].unique())"
   ]
  },
  {
   "cell_type": "code",
   "execution_count": 8,
   "id": "df0c7aec",
   "metadata": {},
   "outputs": [],
   "source": [
    "from sklearn.preprocessing import LabelEncoder\n",
    "\n",
    "# Assuming df is your DataFrame\n",
    "columns_ls = ['Gender','Frequent Urination', 'Increased Thirst', 'Increased Hunger',\n",
    "       'Excessive Weight Loss (Past 6 Months)', 'Blurred Vision (Recent)',\n",
    "       'Fatigue', 'Slow Healing Wounds (Past 3 Months)', 'Dry Mouth',\n",
    "       'Tingling/Numbness in Hands/Feet',\n",
    "       'Frequent Skin Infections (Past Year)',\n",
    "       'Darkening Skin Folds (In Armpits/Neck)', 'Difficulty Concentrating',\n",
    "       'Irritability',\n",
    "       'Erectile Dysfunction (Male) / Irregular Periods (Female)',\n",
    "       'Delayed Wound Healing (After Minor Injury)', 'Poor Night Sleep',\n",
    "       'Increased Belly Fat']\n",
    "\n",
    "label_encoders = {}\n",
    "for i in columns_ls:\n",
    "    label_encoders[i] = LabelEncoder()\n",
    "    df[i] = label_encoders[i].fit_transform(df[i])\n",
    "\n",
    "\n"
   ]
  },
  {
   "cell_type": "code",
   "execution_count": 9,
   "id": "446f32b8",
   "metadata": {},
   "outputs": [
    {
     "data": {
      "text/plain": [
       "array(['Moderate', 'Sedentary', 'Active', 'Light Activity', 'Inactive',\n",
       "       'Very Active'], dtype=object)"
      ]
     },
     "execution_count": 9,
     "metadata": {},
     "output_type": "execute_result"
    }
   ],
   "source": [
    "df['Physical Activity Level'].unique()"
   ]
  },
  {
   "cell_type": "code",
   "execution_count": 10,
   "id": "4a03922f",
   "metadata": {},
   "outputs": [],
   "source": [
    "encoding_mapping = {'Active': 3, 'Very Active': 3, 'Moderate': 2, 'Light Activity': 2, 'Sedentary': 1, 'Inactive': 1}\n",
    "df['Physical Activity Level'] = df['Physical Activity Level'].map(encoding_mapping)"
   ]
  },
  {
   "cell_type": "code",
   "execution_count": 11,
   "id": "f740d8d0",
   "metadata": {},
   "outputs": [
    {
     "name": "stdout",
     "output_type": "stream",
     "text": [
      "Gender [0 1]\n",
      "Physical Activity Level [2 1 3]\n",
      "Frequent Urination [0 2 1]\n",
      "Increased Thirst [0 1]\n",
      "Increased Hunger [0 2 1]\n",
      "Excessive Weight Loss (Past 6 Months) [0 1]\n",
      "Blurred Vision (Recent) [0 1]\n",
      "Fatigue [1 2 0]\n",
      "Slow Healing Wounds (Past 3 Months) [0 2 1]\n",
      "Dry Mouth [0 2 1]\n",
      "Tingling/Numbness in Hands/Feet [0 1]\n",
      "Frequent Skin Infections (Past Year) [0 1]\n",
      "Darkening Skin Folds (In Armpits/Neck) [0 1]\n",
      "Difficulty Concentrating [0 1]\n",
      "Irritability [0 2 1]\n",
      "Erectile Dysfunction (Male) / Irregular Periods (Female) [0 1]\n",
      "Delayed Wound Healing (After Minor Injury) [0 1]\n",
      "Poor Night Sleep [0 2 1]\n",
      "Increased Belly Fat [1 0]\n"
     ]
    }
   ],
   "source": [
    "ls=['Gender','Physical Activity Level','Frequent Urination', 'Increased Thirst', 'Increased Hunger',\n",
    "       'Excessive Weight Loss (Past 6 Months)', 'Blurred Vision (Recent)',\n",
    "       'Fatigue', 'Slow Healing Wounds (Past 3 Months)', 'Dry Mouth',\n",
    "       'Tingling/Numbness in Hands/Feet',\n",
    "       'Frequent Skin Infections (Past Year)',\n",
    "       'Darkening Skin Folds (In Armpits/Neck)', 'Difficulty Concentrating',\n",
    "       'Irritability',\n",
    "       'Erectile Dysfunction (Male) / Irregular Periods (Female)',\n",
    "       'Delayed Wound Healing (After Minor Injury)', 'Poor Night Sleep',\n",
    "       'Increased Belly Fat']\n",
    "for i in ls:\n",
    "    print(i,df[i].unique())"
   ]
  },
  {
   "cell_type": "code",
   "execution_count": 12,
   "id": "5e537bc1",
   "metadata": {},
   "outputs": [],
   "source": [
    "def remove_outliers(dataframe, columns):\n",
    "    for column in columns:\n",
    "        q1 = dataframe[column].quantile(0.25)\n",
    "        q3 = dataframe[column].quantile(0.75)\n",
    "        IQR = q3 - q1\n",
    "        lower_bound = q1 - 1.5 * IQR\n",
    "        upper_bound = q3 + 1.5 * IQR\n",
    "        dataframe = dataframe[(dataframe[column] >= lower_bound) & (dataframe[column] <= upper_bound)]\n",
    "    \n",
    "    return dataframe\n",
    "columns=['Prediabetes Status', 'Age', 'Gender', 'BMI',\n",
    "       'Waist Circumference (cm)', 'Physical Activity Level',\n",
    "       'Frequent Urination', 'Increased Thirst', 'Increased Hunger',\n",
    "       'Excessive Weight Loss (Past 6 Months)', 'Blurred Vision (Recent)',\n",
    "       'Fatigue', 'Slow Healing Wounds (Past 3 Months)', 'Dry Mouth',\n",
    "       'Tingling/Numbness in Hands/Feet',\n",
    "       'Frequent Skin Infections (Past Year)',\n",
    "       'Darkening Skin Folds (In Armpits/Neck)', 'Difficulty Concentrating',\n",
    "       'Irritability',\n",
    "       'Erectile Dysfunction (Male) / Irregular Periods (Female)',\n",
    "       'Delayed Wound Healing (After Minor Injury)', 'Poor Night Sleep',\n",
    "       'Increased Belly Fat']\n",
    "df=remove_outliers(df, columns)"
   ]
  },
  {
   "cell_type": "code",
   "execution_count": 13,
   "id": "506e4460",
   "metadata": {},
   "outputs": [],
   "source": [
    "from sklearn.preprocessing import MinMaxScaler\n",
    "scaler = MinMaxScaler()\n",
    "df[['Age', 'BMI', 'Waist Circumference (cm)']] = scaler.fit_transform(df[['Age', 'BMI', 'Waist Circumference (cm)']])"
   ]
  },
  {
   "cell_type": "code",
   "execution_count": 14,
   "id": "92ba792b",
   "metadata": {},
   "outputs": [],
   "source": [
    "df.to_csv('encoded_data.csv', index=False)"
   ]
  },
  {
   "cell_type": "code",
   "execution_count": 15,
   "id": "7ce0f30d",
   "metadata": {},
   "outputs": [],
   "source": [
    "df1=pd.read_csv('encoded_data.csv')"
   ]
  },
  {
   "cell_type": "code",
   "execution_count": null,
   "id": "bcb79dff",
   "metadata": {},
   "outputs": [],
   "source": []
  },
  {
   "cell_type": "code",
   "execution_count": 16,
   "id": "55dfc184",
   "metadata": {},
   "outputs": [],
   "source": [
    "from imblearn.over_sampling import SMOTE\n",
    "x = df1.drop('Prediabetes Status', axis=1)\n",
    "y = df1['Prediabetes Status']\n",
    "\n",
    "\n",
    "smote = SMOTE(random_state=42)\n",
    "x_amplified, y_amplified = smote.fit_resample(x, y)"
   ]
  },
  {
   "cell_type": "code",
   "execution_count": 17,
   "id": "902078a9",
   "metadata": {},
   "outputs": [
    {
     "name": "stdout",
     "output_type": "stream",
     "text": [
      "Training Accuracy: 0.89\n",
      "Test Accuracy: 0.85\n"
     ]
    }
   ],
   "source": [
    "from sklearn.linear_model import LogisticRegression\n",
    "from sklearn.model_selection import train_test_split\n",
    "X_train, X_test, y_train, y_test = train_test_split(x_amplified, y_amplified, test_size=0.2, random_state=42)\n",
    "\n",
    "# Train the logistic regression model\n",
    "model = LogisticRegression()\n",
    "model.fit(X_train, y_train)"
   ]
  },
  {
   "cell_type": "code",
   "execution_count": 18,
   "id": "21edb085",
   "metadata": {},
   "outputs": [
    {
     "name": "stdout",
     "output_type": "stream",
     "text": [
      "Training Precision: 0.9393939393939394\n",
      "Training Recall: 0.8378378378378378\n",
      "Training F1-score: 0.8857142857142858\n",
      "\n",
      "Test Precision: 0.9\n",
      "Test Recall: 0.8181818181818182\n",
      "Test F1-score: 0.8571428571428572\n",
      "\n",
      "Confusion Matrix for Training Data:\n",
      "[[37  2]\n",
      " [ 6 31]]\n",
      "\n",
      "Confusion Matrix for Test Data:\n",
      "[[8 1]\n",
      " [2 9]]\n"
     ]
    }
   ],
   "source": [
    "from sklearn.metrics import classification_report, confusion_matrix, precision_score, recall_score, f1_score\n",
    "\n",
    "# Make predictions on the training and test sets\n",
    "train_predictions = model.predict(X_train)\n",
    "test_predictions = model.predict(X_test)\n",
    "\n",
    "# Precision, recall, and F1-score for training data\n",
    "train_precision = precision_score(y_train, train_predictions)\n",
    "train_recall = recall_score(y_train, train_predictions)\n",
    "train_f1_score = f1_score(y_train, train_predictions)\n",
    "train_accuracy = model.score(X_train, y_train)\n",
    "\n",
    "\n",
    "\n",
    "# Precision, recall, and F1-score for test data\n",
    "test_precision = precision_score(y_test, test_predictions)\n",
    "test_recall = recall_score(y_test, test_predictions)\n",
    "test_f1_score = f1_score(y_test, test_predictions)\n",
    "test_accuracy = model.score(X_test, y_test)\n",
    "\n",
    "# Confusion matrix for training data\n",
    "train_conf_matrix = confusion_matrix(y_train, train_predictions)\n",
    "\n",
    "# Confusion matrix for test data\n",
    "test_conf_matrix = confusion_matrix(y_test, test_predictions)\n",
    "\n",
    "# Print evaluation metrics\n",
    "\n",
    "print(f\"Training Accuracy: {train_accuracy:.2f}\")\n",
    "print(\"Training Precision:\", train_precision)\n",
    "print(\"Training Recall:\", train_recall)\n",
    "print(\"Training F1-score:\", train_f1_score)\n",
    "print(f\"Test Accuracy: {test_accuracy:.2f}\")\n",
    "print(\"\\nTest Precision:\", test_precision)\n",
    "print(\"Test Recall:\", test_recall)\n",
    "print(\"Test F1-score:\", test_f1_score)\n",
    "print(\"\\nConfusion Matrix for Training Data:\")\n",
    "print(train_conf_matrix)\n",
    "print(\"\\nConfusion Matrix for Test Data:\")\n",
    "print(test_conf_matrix)"
   ]
  },
  {
   "cell_type": "code",
   "execution_count": 19,
   "id": "c0ac5fcf",
   "metadata": {},
   "outputs": [
    {
     "name": "stdout",
     "output_type": "stream",
     "text": [
      "You are Type-2 Pre-diabetic\n"
     ]
    },
    {
     "name": "stderr",
     "output_type": "stream",
     "text": [
      "C:\\python310\\lib\\site-packages\\sklearn\\base.py:450: UserWarning: X does not have valid feature names, but LogisticRegression was fitted with feature names\n",
      "  warnings.warn(\n"
     ]
    }
   ],
   "source": [
    "import numpy as np\n",
    "\n",
    "new_data_point = np.array([[45, 1, 28.5, 95, 3, 0, 1, 0, 0, 0, 1, 0, 0, 1, 0,1,0, 0, 0, 0, 0, 1]])\n",
    "\n",
    "prediction = model.predict(new_data_point)\n",
    "\n",
    "if prediction==1:\n",
    "    print(\"You are Type-2 Pre-diabetic\")\n",
    "else:\n",
    "   print(\"You are not a Type-2 Pre-diabetic\")     \n"
   ]
  },
  {
   "cell_type": "code",
   "execution_count": null,
   "id": "39a89324",
   "metadata": {},
   "outputs": [],
   "source": []
  }
 ],
 "metadata": {
  "kernelspec": {
   "display_name": "Python 3 (ipykernel)",
   "language": "python",
   "name": "python3"
  },
  "language_info": {
   "codemirror_mode": {
    "name": "ipython",
    "version": 3
   },
   "file_extension": ".py",
   "mimetype": "text/x-python",
   "name": "python",
   "nbconvert_exporter": "python",
   "pygments_lexer": "ipython3",
   "version": "3.10.5"
  }
 },
 "nbformat": 4,
 "nbformat_minor": 5
}
